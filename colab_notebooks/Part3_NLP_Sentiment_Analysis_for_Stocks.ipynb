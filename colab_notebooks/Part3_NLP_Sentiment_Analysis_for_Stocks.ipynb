{
  "nbformat": 4,
  "nbformat_minor": 0,
  "metadata": {
    "colab": {
      "name": "Part3_NLP_Sentiment_Analysis_for_Stocks.ipynb",
      "provenance": [],
      "include_colab_link": true
    },
    "kernelspec": {
      "name": "python3",
      "display_name": "Python 3"
    }
  },
  "cells": [
    {
      "cell_type": "markdown",
      "metadata": {
        "id": "view-in-github",
        "colab_type": "text"
      },
      "source": [
        "<a href=\"https://colab.research.google.com/github/SATYAJEET-JADHAV/Github-final-project/blob/main/colab_notebooks/Part3_NLP_Sentiment_Analysis_for_Stocks.ipynb\" target=\"_parent\"><img src=\"https://colab.research.google.com/assets/colab-badge.svg\" alt=\"Open In Colab\"/></a>"
      ]
    },
    {
      "cell_type": "markdown",
      "metadata": {
        "id": "Uuue5TpY4jsq"
      },
      "source": []
    },
    {
      "cell_type": "code",
      "metadata": {
        "id": "2qM0yT-b4jSk"
      },
      "source": [],
      "execution_count": null,
      "outputs": []
    },
    {
      "cell_type": "markdown",
      "metadata": {
        "id": "vyNkVr2fklpA"
      },
      "source": [
        "**TO** READ \"Stock News Sentiment Analysis with Python\": https://towardsdatascience.com/stock-news-sentiment-analysis-with-python-193d4b4378d4\n",
        "https://finviz.com/quote.ashx?t=DAL&ty=c&ta=1&p=d\n",
        "\n",
        "Additional idea: use the specific set of articles from the website - that may be available over a longer period of time, rather than NewsAPI\n"
      ]
    },
    {
      "cell_type": "markdown",
      "metadata": {
        "id": "C7x6ECvRwpf8"
      },
      "source": [
        "**Article outline**\n",
        "\n",
        "1) **Intro**: 'Why news and NLP?'\n",
        "The stock market can be influenced by the news: it can be any important thing about the company (eg new contract, new business line, strong manager hired , etc.), or  financial results (quarterly and annual earnings, profits , etc.) compared with analysts expectations .\n",
        "In this article you will try to get automatically the list of news using the newsapi API, apply sentiment analysis, and compare the results with the stock/index prices (we covered the data piece for this in the prev email)\n",
        "\n",
        "2) **News Api**: show the endpoints for get everything/ sources. Show how to get list of ids for only business English sources. Show the python wrapper and the functionality that is limited compared to the newsapi API (the idea is that you can get it with the requests library using the full functionality).\n",
        "   It is not ideal though: you don't understand if the news are relevant to the stocks, you have only 1 month of history.\n",
        "   Alternative to investigate:\n",
        "   - Finviz https://finviz.com/quote.ashx?t=DAL&ty=c&ta=1&p=d\n",
        "   - the article: https://towardsdatascience.com/stock-news-sentiment-analysis-with-python-193d4b4378d4\n",
        "   You can have links of articles and their names that are highly relevant and hand-curated\n",
        "  \n",
        "3) **Sentiment analysis: introduce the library**\n",
        "- https://medium.com/analytics-vidhya/simplifying-social-media-sentiment-analysis-using-vader-in-python-f9e6ec6fc52f\n",
        "- the paper!!: http://comp.social.gatech.edu/papers/icwsm14.vader.hutto.pdf\n",
        "  I like to cover not only compound, but also positive, neutral, and negative.\n",
        "  We can also check what is more correlated with the graph movements.\n",
        "\n",
        "  Show scores for several article names.\n",
        "\n",
        "4)**The idea:** analyse one event with the news sentiment\n",
        "\n",
        "Get one request for BRK.B (Berkshire Hathaway Inc.) stock around 9th July\n",
        "- check the links list, descriptions, and short contents. Are the news similar, are they relevant to financials?\n",
        "We selected 9th July and large capitalisation stock brk.b because there are many news about it and there was a jump in stock’s price. We will try to find the evidence why did that happen In the news coverage.\n",
        "\n",
        " What does it show on the news about brk.b stock. Can it be debugged ? (Show which words Influenced on positive/negative sentiment)\n",
        "Compare the sentiment score vs. Stock rise and speculate what articles may influenced its growth\n",
        "\n",
        "5) **Scale the analysis**: check daily news (about stocks) sentiment vs. growth of S&P500 index.\n",
        "\n",
        "- 5.1) option 1 : all news from the en newspapers about stocks (we get max number =100 news via python library ).\n",
        "- 5.2) option 2: we limit the sources only to 7 business related sources (it is 20-30 news about Stocks).\n",
        "\n",
        "We compare both results vs. Index movement and find that business news sentiment is visually more correlated with the move .\n"
      ]
    },
    {
      "cell_type": "code",
      "metadata": {
        "id": "uU0n6aUcfpi2"
      },
      "source": [
        "# GLOBAL PARAMS - for one event\n",
        "\n",
        "SHOW_ALL_ARTICLES = True\n",
        "# SHOW_ALL_ARTICLES = False\n",
        "\n",
        "#the day of the event\n",
        "# STARTD = '22-Jun-2020'\n",
        "# STARTD = '19-Jun-2020'\n",
        "STARTD = '9-Jul-2020'\n",
        "\n",
        "\n",
        "#the search phrase for News API\n",
        "# KEYWRD = 'Inovio Pharmaceuticals stock'\n",
        "# KEYWRD = 'Apple Inc.'\n",
        "KEYWRD = 'Berkshire Hathaway Inc.'\n",
        "\n",
        "\n",
        "#tiker\n",
        "# tkr = \"INO\"\n",
        "# tkr = 'AAPL'\n",
        "tkr = 'BRK-B'\n",
        "# tkr = 'LMND'\n"
      ],
      "execution_count": 1,
      "outputs": []
    },
    {
      "cell_type": "markdown",
      "metadata": {
        "id": "1nX5RbLaf--o"
      },
      "source": [
        "# 0) Imports"
      ]
    },
    {
      "cell_type": "code",
      "metadata": {
        "id": "kT-G2EaJf8oy",
        "colab": {
          "base_uri": "https://localhost:8080/"
        },
        "outputId": "074cdaaa-8341-407b-d1d6-dcc4f19323cb"
      },
      "source": [
        "import sys\n",
        "import nltk\n",
        "from nltk.sentiment.vader import SentimentIntensityAnalyzer\n",
        "### Uncomment it when the script runs for the first time\n",
        "nltk.download('vader_lexicon')\n",
        "sia = SentimentIntensityAnalyzer()"
      ],
      "execution_count": 2,
      "outputs": [
        {
          "output_type": "stream",
          "name": "stderr",
          "text": [
            "[nltk_data] Downloading package vader_lexicon to /root/nltk_data...\n"
          ]
        }
      ]
    },
    {
      "cell_type": "code",
      "metadata": {
        "id": "S0HtUha3gBES",
        "colab": {
          "base_uri": "https://localhost:8080/"
        },
        "outputId": "e3b30560-b848-4c88-98c2-5cf7439059c1"
      },
      "source": [
        "!pip install newsapi-python"
      ],
      "execution_count": 3,
      "outputs": [
        {
          "output_type": "stream",
          "name": "stdout",
          "text": [
            "Collecting newsapi-python\n",
            "  Downloading newsapi_python-0.2.7-py2.py3-none-any.whl.metadata (1.2 kB)\n",
            "Requirement already satisfied: requests<3.0.0 in /usr/local/lib/python3.11/dist-packages (from newsapi-python) (2.32.3)\n",
            "Requirement already satisfied: charset-normalizer<4,>=2 in /usr/local/lib/python3.11/dist-packages (from requests<3.0.0->newsapi-python) (3.4.1)\n",
            "Requirement already satisfied: idna<4,>=2.5 in /usr/local/lib/python3.11/dist-packages (from requests<3.0.0->newsapi-python) (3.10)\n",
            "Requirement already satisfied: urllib3<3,>=1.21.1 in /usr/local/lib/python3.11/dist-packages (from requests<3.0.0->newsapi-python) (2.3.0)\n",
            "Requirement already satisfied: certifi>=2017.4.17 in /usr/local/lib/python3.11/dist-packages (from requests<3.0.0->newsapi-python) (2025.1.31)\n",
            "Downloading newsapi_python-0.2.7-py2.py3-none-any.whl (7.9 kB)\n",
            "Installing collected packages: newsapi-python\n",
            "Successfully installed newsapi-python-0.2.7\n"
          ]
        }
      ]
    },
    {
      "cell_type": "code",
      "metadata": {
        "id": "0TmesyHxgEQg",
        "colab": {
          "base_uri": "https://localhost:8080/"
        },
        "outputId": "d071c131-5bb9-49d9-a7af-d83d4fa915c1"
      },
      "source": [
        "!pip install yfinance"
      ],
      "execution_count": 4,
      "outputs": [
        {
          "output_type": "stream",
          "name": "stdout",
          "text": [
            "Requirement already satisfied: yfinance in /usr/local/lib/python3.11/dist-packages (0.2.55)\n",
            "Requirement already satisfied: pandas>=1.3.0 in /usr/local/lib/python3.11/dist-packages (from yfinance) (2.2.2)\n",
            "Requirement already satisfied: numpy>=1.16.5 in /usr/local/lib/python3.11/dist-packages (from yfinance) (2.0.2)\n",
            "Requirement already satisfied: requests>=2.31 in /usr/local/lib/python3.11/dist-packages (from yfinance) (2.32.3)\n",
            "Requirement already satisfied: multitasking>=0.0.7 in /usr/local/lib/python3.11/dist-packages (from yfinance) (0.0.11)\n",
            "Requirement already satisfied: platformdirs>=2.0.0 in /usr/local/lib/python3.11/dist-packages (from yfinance) (4.3.7)\n",
            "Requirement already satisfied: pytz>=2022.5 in /usr/local/lib/python3.11/dist-packages (from yfinance) (2025.2)\n",
            "Requirement already satisfied: frozendict>=2.3.4 in /usr/local/lib/python3.11/dist-packages (from yfinance) (2.4.6)\n",
            "Requirement already satisfied: peewee>=3.16.2 in /usr/local/lib/python3.11/dist-packages (from yfinance) (3.17.9)\n",
            "Requirement already satisfied: beautifulsoup4>=4.11.1 in /usr/local/lib/python3.11/dist-packages (from yfinance) (4.13.3)\n",
            "Requirement already satisfied: soupsieve>1.2 in /usr/local/lib/python3.11/dist-packages (from beautifulsoup4>=4.11.1->yfinance) (2.6)\n",
            "Requirement already satisfied: typing-extensions>=4.0.0 in /usr/local/lib/python3.11/dist-packages (from beautifulsoup4>=4.11.1->yfinance) (4.13.1)\n",
            "Requirement already satisfied: python-dateutil>=2.8.2 in /usr/local/lib/python3.11/dist-packages (from pandas>=1.3.0->yfinance) (2.8.2)\n",
            "Requirement already satisfied: tzdata>=2022.7 in /usr/local/lib/python3.11/dist-packages (from pandas>=1.3.0->yfinance) (2025.2)\n",
            "Requirement already satisfied: charset-normalizer<4,>=2 in /usr/local/lib/python3.11/dist-packages (from requests>=2.31->yfinance) (3.4.1)\n",
            "Requirement already satisfied: idna<4,>=2.5 in /usr/local/lib/python3.11/dist-packages (from requests>=2.31->yfinance) (3.10)\n",
            "Requirement already satisfied: urllib3<3,>=1.21.1 in /usr/local/lib/python3.11/dist-packages (from requests>=2.31->yfinance) (2.3.0)\n",
            "Requirement already satisfied: certifi>=2017.4.17 in /usr/local/lib/python3.11/dist-packages (from requests>=2.31->yfinance) (2025.1.31)\n",
            "Requirement already satisfied: six>=1.5 in /usr/local/lib/python3.11/dist-packages (from python-dateutil>=2.8.2->pandas>=1.3.0->yfinance) (1.17.0)\n"
          ]
        }
      ]
    },
    {
      "cell_type": "code",
      "metadata": {
        "id": "K-RxcldxgFZw"
      },
      "source": [
        "from newsapi import NewsApiClient\n",
        "#from newsapi.newsapi_client import NewsApiClient\n",
        "from datetime import date, timedelta, datetime\n",
        "import matplotlib.pyplot as plt\n",
        "import numpy as np\n",
        "import pandas as pd\n",
        "import yfinance as yf\n"
      ],
      "execution_count": 5,
      "outputs": []
    },
    {
      "cell_type": "code",
      "metadata": {
        "id": "0BBLz5CWW1IY"
      },
      "source": [
        "# Show full output in Colab\n",
        "# https://stackoverflow.com/questions/54692405/output-truncation-in-google-colab\n",
        "pd.set_option('display.max_colwidth',1000)"
      ],
      "execution_count": 6,
      "outputs": []
    },
    {
      "cell_type": "markdown",
      "metadata": {
        "id": "jhs5dhAYgyZV"
      },
      "source": [
        "# 1) News API BY KEYWORD - download some news on a search keyword for a specific date, sorted on relevancy for language =en, first 100 articles"
      ]
    },
    {
      "cell_type": "markdown",
      "metadata": {
        "id": "ANJCxVA9o_0G"
      },
      "source": [
        "## 1.0) Define functions calling news api"
      ]
    },
    {
      "cell_type": "markdown",
      "metadata": {
        "id": "iQQl-ExUgNJw"
      },
      "source": [
        "We use this function to call one end point to filter proper sources"
      ]
    },
    {
      "cell_type": "code",
      "metadata": {
        "id": "2hqZ9RfXbWoB"
      },
      "source": [
        "# https://newsapi.org/docs/endpoints/sources\n",
        "# https://github.com/mattlisiv/newsapi-python\n",
        "\n",
        "def get_sources(category = None):\n",
        "  newsapi = NewsApiClient(api_key='1900869fa01647fca0bdc19b4550daa0')\n",
        "  sources = newsapi.get_sources()\n",
        "  if category is not None:\n",
        "    rez = [source['id'] for source in sources['sources'] if source['category'] == category and source['language'] == 'en']\n",
        "  else:\n",
        "    rez = [source['id'] for source in sources['sources'] if source['language'] == 'en']\n",
        "  return rez\n"
      ],
      "execution_count": 7,
      "outputs": []
    },
    {
      "cell_type": "code",
      "metadata": {
        "id": "ChnQafKHgYE_",
        "colab": {
          "base_uri": "https://localhost:8080/"
        },
        "outputId": "6c894894-30a1-406c-dfbb-07dc3f5b6590"
      },
      "source": [
        "# 81 en sources\n",
        "len(get_sources())"
      ],
      "execution_count": 8,
      "outputs": [
        {
          "output_type": "execute_result",
          "data": {
            "text/plain": [
              "80"
            ]
          },
          "metadata": {},
          "execution_count": 8
        }
      ]
    },
    {
      "cell_type": "code",
      "metadata": {
        "id": "v5ak7ityc0eL",
        "colab": {
          "base_uri": "https://localhost:8080/"
        },
        "outputId": "b0e9c6dd-29bf-4532-b94c-413a77007867"
      },
      "source": [
        "# 7 business sources\n",
        "get_sources('business')"
      ],
      "execution_count": 9,
      "outputs": [
        {
          "output_type": "execute_result",
          "data": {
            "text/plain": [
              "['australian-financial-review',\n",
              " 'bloomberg',\n",
              " 'business-insider',\n",
              " 'financial-post',\n",
              " 'fortune',\n",
              " 'the-wall-street-journal']"
            ]
          },
          "metadata": {},
          "execution_count": 9
        }
      ]
    },
    {
      "cell_type": "code",
      "metadata": {
        "id": "ZZ9T9XP7tYk9",
        "colab": {
          "base_uri": "https://localhost:8080/"
        },
        "outputId": "61f43ae7-2ece-4688-964d-1708f8df65b4"
      },
      "source": [
        "type(date(2020,1,1))"
      ],
      "execution_count": 10,
      "outputs": [
        {
          "output_type": "execute_result",
          "data": {
            "text/plain": [
              "datetime.date"
            ]
          },
          "metadata": {},
          "execution_count": 10
        }
      ]
    },
    {
      "cell_type": "code",
      "metadata": {
        "id": "eu3uDCJhg_Nf"
      },
      "source": [
        "# https://github.com/mattlisiv/newsapi-python/blob/master/newsapi/newsapi_client.py\n",
        "#  https://newsapi.org/docs/endpoints/everything\n",
        "\n",
        "\n",
        "def get_articles_sentiments(keywrd, startd, sources_list = None, show_all_articles = False):\n",
        "\n",
        "  newsapi = NewsApiClient(api_key='1900869fa01647fca0bdc19b4550daa0')\n",
        "  if type(startd) == str:\n",
        "    my_date = datetime.strptime(startd,'%d-%b-%Y')\n",
        "  else:\n",
        "    my_date = startd\n",
        "  # business_en_sources = get_sources('business','en')\n",
        "  if sources_list:\n",
        "    articles = newsapi.get_everything(q=keywrd,\n",
        "                                      from_param = my_date.isoformat(),\n",
        "                                      to = (my_date + timedelta(days = 1)).isoformat(),\n",
        "                                      language=\"en\",\n",
        "                                      sources = \",\".join(sources_list),\n",
        "                                      sort_by=\"relevancy\",\n",
        "                                      page_size = 100)\n",
        "  else:\n",
        "     articles = newsapi.get_everything(q=keywrd,\n",
        "                                      from_param = my_date.isoformat(),\n",
        "                                      to = (my_date + timedelta(days = 1)).isoformat(),\n",
        "                                      language=\"en\",\n",
        "                                      sort_by=\"relevancy\",\n",
        "                                      page_size = 100)\n",
        "  article_content = ''\n",
        "\n",
        "  date_sentiments = {}\n",
        "  date_sentiments_list = []\n",
        "  seen = set()\n",
        "\n",
        "  for article in articles['articles']:\n",
        "    if str(article['title']) in seen:\n",
        "      continue\n",
        "    else:\n",
        "      seen.add(str(article['title']))\n",
        "      article_content = str(article['title']) + '. ' + str(article['description'])\n",
        "\n",
        "      sentiment = sia.polarity_scores(article_content)['compound']\n",
        "      date_sentiments.setdefault(my_date, []).append(sentiment)\n",
        "      date_sentiments_list.append((sentiment, article['url'],article['title'],article['description']))\n",
        "  date_sentiments_l = sorted(date_sentiments_list, key=lambda tup: tup[0],reverse=True)\n",
        "  sent_list = list(date_sentiments.values())[0]\n",
        "\n",
        "  return pd.DataFrame(date_sentiments_list, columns=['Sentiment','URL','Title','Description'])"
      ],
      "execution_count": 11,
      "outputs": []
    },
    {
      "cell_type": "markdown",
      "metadata": {
        "id": "g7lXVsGvpFSA"
      },
      "source": [
        "## 1.1) Test 2 versions for all news with q='stock': for ALL en sources"
      ]
    },
    {
      "cell_type": "code",
      "metadata": {
        "id": "2aRvBEpMg_Hu",
        "colab": {
          "base_uri": "https://localhost:8080/",
          "height": 373
        },
        "outputId": "d7bb9825-1794-4d15-9e39-f19f1dc28077"
      },
      "source": [
        "# Easy version when we don't filter the business source -- seems to be relevant though, but the description\n",
        "# Get all sources in en\n",
        "return_articles = get_articles_sentiments(keywrd= 'stock' ,startd = '21-Jul-2020',sources_list = None, show_all_articles= True)\n",
        "return_articles.Sentiment.hist(bins=30,grid=False)\n",
        "print(return_articles.Sentiment.mean())\n",
        "print(return_articles.Sentiment.count())\n",
        "print(return_articles.Description)\n",
        "\n"
      ],
      "execution_count": 12,
      "outputs": [
        {
          "output_type": "error",
          "ename": "NewsAPIException",
          "evalue": "{'status': 'error', 'code': 'parameterInvalid', 'message': 'You are trying to request results too far in the past. Your plan permits you to request articles as far back as 2025-03-17, but you have requested 2020-07-21. You may need to upgrade to a paid plan.'}",
          "traceback": [
            "\u001b[0;31m---------------------------------------------------------------------------\u001b[0m",
            "\u001b[0;31mNewsAPIException\u001b[0m                          Traceback (most recent call last)",
            "\u001b[0;32m<ipython-input-12-579965a66642>\u001b[0m in \u001b[0;36m<cell line: 0>\u001b[0;34m()\u001b[0m\n\u001b[1;32m      1\u001b[0m \u001b[0;31m# Easy version when we don't filter the business source -- seems to be relevant though, but the description\u001b[0m\u001b[0;34m\u001b[0m\u001b[0;34m\u001b[0m\u001b[0m\n\u001b[1;32m      2\u001b[0m \u001b[0;31m# Get all sources in en\u001b[0m\u001b[0;34m\u001b[0m\u001b[0;34m\u001b[0m\u001b[0m\n\u001b[0;32m----> 3\u001b[0;31m \u001b[0mreturn_articles\u001b[0m \u001b[0;34m=\u001b[0m \u001b[0mget_articles_sentiments\u001b[0m\u001b[0;34m(\u001b[0m\u001b[0mkeywrd\u001b[0m\u001b[0;34m=\u001b[0m \u001b[0;34m'stock'\u001b[0m \u001b[0;34m,\u001b[0m\u001b[0mstartd\u001b[0m \u001b[0;34m=\u001b[0m \u001b[0;34m'21-Jul-2020'\u001b[0m\u001b[0;34m,\u001b[0m\u001b[0msources_list\u001b[0m \u001b[0;34m=\u001b[0m \u001b[0;32mNone\u001b[0m\u001b[0;34m,\u001b[0m \u001b[0mshow_all_articles\u001b[0m\u001b[0;34m=\u001b[0m \u001b[0;32mTrue\u001b[0m\u001b[0;34m)\u001b[0m\u001b[0;34m\u001b[0m\u001b[0;34m\u001b[0m\u001b[0m\n\u001b[0m\u001b[1;32m      4\u001b[0m \u001b[0mreturn_articles\u001b[0m\u001b[0;34m.\u001b[0m\u001b[0mSentiment\u001b[0m\u001b[0;34m.\u001b[0m\u001b[0mhist\u001b[0m\u001b[0;34m(\u001b[0m\u001b[0mbins\u001b[0m\u001b[0;34m=\u001b[0m\u001b[0;36m30\u001b[0m\u001b[0;34m,\u001b[0m\u001b[0mgrid\u001b[0m\u001b[0;34m=\u001b[0m\u001b[0;32mFalse\u001b[0m\u001b[0;34m)\u001b[0m\u001b[0;34m\u001b[0m\u001b[0;34m\u001b[0m\u001b[0m\n\u001b[1;32m      5\u001b[0m \u001b[0mprint\u001b[0m\u001b[0;34m(\u001b[0m\u001b[0mreturn_articles\u001b[0m\u001b[0;34m.\u001b[0m\u001b[0mSentiment\u001b[0m\u001b[0;34m.\u001b[0m\u001b[0mmean\u001b[0m\u001b[0;34m(\u001b[0m\u001b[0;34m)\u001b[0m\u001b[0;34m)\u001b[0m\u001b[0;34m\u001b[0m\u001b[0;34m\u001b[0m\u001b[0m\n",
            "\u001b[0;32m<ipython-input-11-1b263fe7bf69>\u001b[0m in \u001b[0;36mget_articles_sentiments\u001b[0;34m(keywrd, startd, sources_list, show_all_articles)\u001b[0m\n\u001b[1;32m     20\u001b[0m                                       page_size = 100)\n\u001b[1;32m     21\u001b[0m   \u001b[0;32melse\u001b[0m\u001b[0;34m:\u001b[0m\u001b[0;34m\u001b[0m\u001b[0;34m\u001b[0m\u001b[0m\n\u001b[0;32m---> 22\u001b[0;31m      articles = newsapi.get_everything(q=keywrd,\n\u001b[0m\u001b[1;32m     23\u001b[0m                                       \u001b[0mfrom_param\u001b[0m \u001b[0;34m=\u001b[0m \u001b[0mmy_date\u001b[0m\u001b[0;34m.\u001b[0m\u001b[0misoformat\u001b[0m\u001b[0;34m(\u001b[0m\u001b[0;34m)\u001b[0m\u001b[0;34m,\u001b[0m\u001b[0;34m\u001b[0m\u001b[0;34m\u001b[0m\u001b[0m\n\u001b[1;32m     24\u001b[0m                                       \u001b[0mto\u001b[0m \u001b[0;34m=\u001b[0m \u001b[0;34m(\u001b[0m\u001b[0mmy_date\u001b[0m \u001b[0;34m+\u001b[0m \u001b[0mtimedelta\u001b[0m\u001b[0;34m(\u001b[0m\u001b[0mdays\u001b[0m \u001b[0;34m=\u001b[0m \u001b[0;36m1\u001b[0m\u001b[0;34m)\u001b[0m\u001b[0;34m)\u001b[0m\u001b[0;34m.\u001b[0m\u001b[0misoformat\u001b[0m\u001b[0;34m(\u001b[0m\u001b[0;34m)\u001b[0m\u001b[0;34m,\u001b[0m\u001b[0;34m\u001b[0m\u001b[0;34m\u001b[0m\u001b[0m\n",
            "\u001b[0;32m/usr/local/lib/python3.11/dist-packages/newsapi/newsapi_client.py\u001b[0m in \u001b[0;36mget_everything\u001b[0;34m(self, q, qintitle, sources, domains, exclude_domains, from_param, to, language, sort_by, page, page_size)\u001b[0m\n\u001b[1;32m    332\u001b[0m         \u001b[0;31m# Check Status of Request\u001b[0m\u001b[0;34m\u001b[0m\u001b[0;34m\u001b[0m\u001b[0m\n\u001b[1;32m    333\u001b[0m         \u001b[0;32mif\u001b[0m \u001b[0mr\u001b[0m\u001b[0;34m.\u001b[0m\u001b[0mstatus_code\u001b[0m \u001b[0;34m!=\u001b[0m \u001b[0mrequests\u001b[0m\u001b[0;34m.\u001b[0m\u001b[0mcodes\u001b[0m\u001b[0;34m.\u001b[0m\u001b[0mok\u001b[0m\u001b[0;34m:\u001b[0m\u001b[0;34m\u001b[0m\u001b[0;34m\u001b[0m\u001b[0m\n\u001b[0;32m--> 334\u001b[0;31m             \u001b[0;32mraise\u001b[0m \u001b[0mNewsAPIException\u001b[0m\u001b[0;34m(\u001b[0m\u001b[0mr\u001b[0m\u001b[0;34m.\u001b[0m\u001b[0mjson\u001b[0m\u001b[0;34m(\u001b[0m\u001b[0;34m)\u001b[0m\u001b[0;34m)\u001b[0m\u001b[0;34m\u001b[0m\u001b[0;34m\u001b[0m\u001b[0m\n\u001b[0m\u001b[1;32m    335\u001b[0m \u001b[0;34m\u001b[0m\u001b[0m\n\u001b[1;32m    336\u001b[0m         \u001b[0;32mreturn\u001b[0m \u001b[0mr\u001b[0m\u001b[0;34m.\u001b[0m\u001b[0mjson\u001b[0m\u001b[0;34m(\u001b[0m\u001b[0;34m)\u001b[0m\u001b[0;34m\u001b[0m\u001b[0;34m\u001b[0m\u001b[0m\n",
            "\u001b[0;31mNewsAPIException\u001b[0m: {'status': 'error', 'code': 'parameterInvalid', 'message': 'You are trying to request results too far in the past. Your plan permits you to request articles as far back as 2025-03-17, but you have requested 2020-07-21. You may need to upgrade to a paid plan.'}"
          ]
        }
      ]
    },
    {
      "cell_type": "markdown",
      "metadata": {
        "id": "Sw2_R7yFWP9z"
      },
      "source": [
        "Result: you can see 100 articles, with a lot of neutral sentiment,\n",
        "and it is skewed towards very positive"
      ]
    },
    {
      "cell_type": "code",
      "metadata": {
        "id": "Pw6_ZeLlWdJ7"
      },
      "source": [
        "return_articles.sort_values(by='Sentiment', ascending=True)[['Sentiment','URL']].head(2)"
      ],
      "execution_count": null,
      "outputs": []
    },
    {
      "cell_type": "code",
      "metadata": {
        "id": "pIo_Dn7_kWt6"
      },
      "source": [
        "return_articles.sort_values(by='Sentiment', ascending=True)[['Sentiment','URL']].tail(2)"
      ],
      "execution_count": null,
      "outputs": []
    },
    {
      "cell_type": "markdown",
      "metadata": {
        "id": "FK9zsvzZXDqP"
      },
      "source": [
        "Top negative: https://www.reuters.com/article/india-nepal-palmoil-idUSL3N2ES1Y3\n",
        "Nepal stops buying (New Dehli Suspended 39 oil import...)"
      ]
    },
    {
      "cell_type": "code",
      "metadata": {
        "id": "yF18iqTljXGl"
      },
      "source": [
        "return_articles.sort_values(by='Sentiment', ascending=True)[['Sentiment','URL']].head(2)"
      ],
      "execution_count": null,
      "outputs": []
    },
    {
      "cell_type": "markdown",
      "metadata": {
        "id": "-2pcsUKMkdwT"
      },
      "source": [
        "From the article above: \"TOKYO, July 21 (Reuters) - Japanese stocks rose on Tuesday as signs of progress in developing a COVID-19 vaccine boosted investor confidence in the outlook for future economic growth.\""
      ]
    },
    {
      "cell_type": "markdown",
      "metadata": {
        "id": "nhLhbO86o4d4"
      },
      "source": [
        "## 1.2 Same as 1.1, but try only business sources : different articles covered?"
      ]
    },
    {
      "cell_type": "code",
      "metadata": {
        "id": "S7R5z8OTZJUL"
      },
      "source": [
        "# Look at only business sources in en\n",
        "sources = get_sources('business')\n",
        "return_articles = get_articles_sentiments('stock','21-Jul-2020',sources_list=sources, show_all_articles=True)\n",
        "return_articles.Sentiment.hist(bins=30,grid=False)\n",
        "print(return_articles.Sentiment.mean())\n",
        "print(return_articles.Sentiment.count())\n",
        "print(return_articles.Description)\n"
      ],
      "execution_count": null,
      "outputs": []
    },
    {
      "cell_type": "code",
      "metadata": {
        "id": "cLAH3sdRjbvN"
      },
      "source": [
        "return_articles = get_articles_sentiments('stock','20-Jul-2020', sources_list=sources, show_all_articles=True)\n",
        "return_articles.Sentiment.hist(bins=30,grid=False)\n",
        "print(return_articles.Sentiment.mean())\n",
        "print(return_articles.Sentiment.count())\n"
      ],
      "execution_count": null,
      "outputs": []
    },
    {
      "cell_type": "code",
      "metadata": {
        "id": "TDHS_N1DjjGu"
      },
      "source": [
        "return_articles = get_articles_sentiments('stock','19-Jul-2020',show_all_articles=True)\n",
        "return_articles.Sentiment.hist(bins=30,grid=False)\n",
        "return_articles.Sentiment.mean()\n"
      ],
      "execution_count": null,
      "outputs": []
    },
    {
      "cell_type": "markdown",
      "metadata": {
        "id": "VlqW6NdwmhPs"
      },
      "source": [
        "# 2) Get sentiment for 1 month:  q= 'stocks', 'en' language, with and without business category filter"
      ]
    },
    {
      "cell_type": "code",
      "metadata": {
        "id": "ssp30DuOnTiH"
      },
      "source": [
        "from datetime import date\n",
        "\n",
        "end_date = date.today()\n",
        "start_date = date(year=end_date.year, month=end_date.month-1, day=end_date.day)\n",
        "\n",
        "print('Start day = ', start_date)\n",
        "print('End day = ', end_date)\n",
        "\n",
        "current_day = start_date\n",
        "business_sources = get_sources('business')\n",
        "sentiment_all_score = []\n",
        "sentiment_business_score = []\n",
        "dates=[]\n",
        "\n",
        "\n",
        "while current_day <= end_date:\n",
        "\n",
        "  dates.append(current_day)\n",
        "\n",
        "  sentiments_all = get_articles_sentiments(keywrd= 'stock' ,\n",
        "                                          #  current_day.strftime('%b-%d-%Y'),\n",
        "                                       startd = current_day,\n",
        "                                       sources_list = None,\n",
        "                                       show_all_articles= True)\n",
        "  sentiment_all_score.append(sentiments_all.mean())\n",
        "\n",
        "  sentiments_business = get_articles_sentiments(keywrd= 'stock' ,\n",
        "                                      #  startd = current_day.strftime('%b-%d-%Y'),\n",
        "                                       startd = current_day,\n",
        "                                       sources_list = business_sources,\n",
        "                                       show_all_articles= True)\n",
        "\n",
        "  sentiment_business_score.append(sentiments_business.mean())\n",
        "\n",
        "  current_day = current_day + timedelta(days=1)"
      ],
      "execution_count": null,
      "outputs": []
    },
    {
      "cell_type": "code",
      "metadata": {
        "id": "2E05ed93uTEl"
      },
      "source": [
        "sentiments = pd.DataFrame([dates,np.array(sentiment_all_score),np.array(sentiment_business_score)]).transpose()"
      ],
      "execution_count": null,
      "outputs": []
    },
    {
      "cell_type": "code",
      "metadata": {
        "id": "-OUa7_1Sw9NN"
      },
      "source": [
        "sentiments.columns=['Date','All_sources_sentiment','Business_sources_sentiment']"
      ],
      "execution_count": null,
      "outputs": []
    },
    {
      "cell_type": "code",
      "metadata": {
        "id": "_re8cZ9hznlt"
      },
      "source": [
        "sentiments['Date'] = pd.to_datetime(sentiments['Date'])"
      ],
      "execution_count": null,
      "outputs": []
    },
    {
      "cell_type": "code",
      "metadata": {
        "id": "KYPEZowmz3b0"
      },
      "source": [
        "sentiments['All_sources_sentiment'] = sentiments['All_sources_sentiment'].astype(float)\n",
        "sentiments['Business_sources_sentiment'] = sentiments['Business_sources_sentiment'].astype(float)"
      ],
      "execution_count": null,
      "outputs": []
    },
    {
      "cell_type": "code",
      "metadata": {
        "id": "SP_FINHQ0eBy"
      },
      "source": [
        "sentiments.info()"
      ],
      "execution_count": null,
      "outputs": []
    },
    {
      "cell_type": "code",
      "metadata": {
        "id": "iuadYPYXyB09"
      },
      "source": [
        "sentiments.set_index(\"Date\", inplace=True)"
      ],
      "execution_count": null,
      "outputs": []
    },
    {
      "cell_type": "code",
      "metadata": {
        "id": "C3mM9qKWyG0e"
      },
      "source": [
        "sentiments.head()"
      ],
      "execution_count": null,
      "outputs": []
    },
    {
      "cell_type": "markdown",
      "metadata": {
        "id": "yBPTCqNlXz9R"
      },
      "source": [
        "# 3) S&P 500 and Dow Jones index - reuse from the prev article"
      ]
    },
    {
      "cell_type": "code",
      "metadata": {
        "id": "U2gyuhzYmXIk"
      },
      "source": [
        "\n",
        "# https://pydata.github.io/pandas-datareader/remote_data.html#stooq-index-data\n",
        "# FRED: Federal Reserve Economic Data // fred,stlouisfed.org\n",
        "import pandas_datareader.data as pdr\n",
        "# from datetime import datetime\n",
        "from datetime import date\n",
        "end = date.today()\n",
        "# start = datetime(2020,1,1)\n",
        "start = datetime(year=end.year, month=end.month-1, day=end.day)\n",
        "# end = datetime(2020,6,29)\n",
        "print(f'Period 1 year until today: {start} to {end} ')"
      ],
      "execution_count": null,
      "outputs": []
    },
    {
      "cell_type": "code",
      "metadata": {
        "id": "P6qnzZH2YT4X"
      },
      "source": [
        "spx_index = pdr.get_data_stooq('^SPX', start, end)\n",
        "dji_index = pdr.get_data_stooq('^DJI',start,end)\n"
      ],
      "execution_count": null,
      "outputs": []
    },
    {
      "cell_type": "code",
      "metadata": {
        "id": "PtVdXXiLwCct"
      },
      "source": [
        "spx_index.index"
      ],
      "execution_count": null,
      "outputs": []
    },
    {
      "cell_type": "code",
      "metadata": {
        "id": "bhO5iaDm5m0i"
      },
      "source": [
        "spx_index['Close'].plot(title='1 month price history for index S&P500 Index')"
      ],
      "execution_count": null,
      "outputs": []
    },
    {
      "cell_type": "code",
      "metadata": {
        "id": "BFWagLvY5k0K"
      },
      "source": [
        "dji_index['Close'].plot(title='1 month price history for index Dow Jones Index')"
      ],
      "execution_count": null,
      "outputs": []
    },
    {
      "cell_type": "code",
      "metadata": {
        "id": "qmQCbeAXmEBY"
      },
      "source": [
        "sentiments_vs_snp = sentiments.join(spx_index['Close']).dropna()\n",
        "\n",
        "# spx_index['Close'].join(sentiments).head()\n",
        "  #  plot(title='1 month price history for index S&P500')"
      ],
      "execution_count": null,
      "outputs": []
    },
    {
      "cell_type": "code",
      "metadata": {
        "id": "segc6f012iRQ"
      },
      "source": [
        "sentiments_vs_snp.rename(columns={'Close':'s&p500_close'}, inplace=True)"
      ],
      "execution_count": null,
      "outputs": []
    },
    {
      "cell_type": "code",
      "metadata": {
        "id": "aJ_0Zim61OXi"
      },
      "source": [
        "sentiments_vs_snp.head()"
      ],
      "execution_count": null,
      "outputs": []
    },
    {
      "cell_type": "code",
      "metadata": {
        "id": "OTR-qUWv3D_4"
      },
      "source": [
        "import matplotlib.pyplot as plt\n",
        "import seaborn as sns\n",
        "\n",
        "# https://stackoverflow.com/questions/31594549/how-do-i-change-the-figure-size-for-a-seaborn-plot\n",
        "# https://stackoverflow.com/questions/47591650/second-y-axis-time-series-seaborn\n",
        "sns.set(rc={'figure.figsize':(13.0,8.0)})\n",
        "\n",
        "\n",
        "ax=sns.lineplot(data=sentiments_vs_snp['s&p500_close'], color=\"b\",label='S&P500 Close price')\n",
        "ax2 = plt.twinx()\n",
        "sns.lineplot(data=sentiments_vs_snp[\"All_sources_sentiment\"], color=\"g\", ax=ax2, label='All sources sentiment')\n"
      ],
      "execution_count": null,
      "outputs": []
    },
    {
      "cell_type": "code",
      "metadata": {
        "id": "MbmR9BIB5BEf"
      },
      "source": [
        "# BUSINESS SENTIMENT LOOKS CLOSER!\n",
        "\n",
        "sns.set(rc={'figure.figsize':(13.0,8.0)})\n",
        "\n",
        "\n",
        "ax=sns.lineplot(data=sentiments_vs_snp['s&p500_close'], color=\"b\", label='S&P500 Close price')\n",
        "ax2 = plt.twinx()\n",
        "sns.lineplot(data=sentiments_vs_snp[\"Business_sources_sentiment\"], color=\"g\", ax=ax2, label='Business_sources_sentiment')"
      ],
      "execution_count": null,
      "outputs": []
    },
    {
      "cell_type": "markdown",
      "metadata": {
        "id": "QMzciBR0zFiV"
      },
      "source": [
        "# 4.1) Individual cases - Shopify"
      ]
    },
    {
      "cell_type": "code",
      "metadata": {
        "id": "7DlEZKRpzpMi"
      },
      "source": [
        "business_sources"
      ],
      "execution_count": null,
      "outputs": []
    },
    {
      "cell_type": "code",
      "metadata": {
        "id": "vtoeYpjVzKE0"
      },
      "source": [
        "startd='29-Jul-2020'\n",
        "shopify_stock = get_articles_sentiments(\"Shopify\", startd, sources_list = business_sources, show_all_articles = True)"
      ],
      "execution_count": null,
      "outputs": []
    },
    {
      "cell_type": "code",
      "metadata": {
        "id": "9NST69Cvztrn"
      },
      "source": [
        "shopify_stock"
      ],
      "execution_count": null,
      "outputs": []
    },
    {
      "cell_type": "code",
      "metadata": {
        "id": "kV2oQeBkz0hS"
      },
      "source": [
        "shopify_stock_all = get_articles_sentiments(\"Shopify\", startd, sources_list = None, show_all_articles = True)"
      ],
      "execution_count": null,
      "outputs": []
    },
    {
      "cell_type": "code",
      "metadata": {
        "id": "vn-ZMesO0EcY"
      },
      "source": [
        "shopify_stock_all.Sentiment.mean()"
      ],
      "execution_count": null,
      "outputs": []
    },
    {
      "cell_type": "code",
      "metadata": {
        "id": "PU4xDSW3z5TB"
      },
      "source": [
        "shopify_stock_all"
      ],
      "execution_count": null,
      "outputs": []
    },
    {
      "cell_type": "code",
      "metadata": {
        "id": "lTGEpickz73C"
      },
      "source": [
        "# Previous day\n",
        "startd='28-Jul-2020'\n",
        "\n",
        "shopify_stock_all_prevDay = get_articles_sentiments(\"Shopify\", startd, sources_list = None, show_all_articles = True)"
      ],
      "execution_count": null,
      "outputs": []
    },
    {
      "cell_type": "code",
      "metadata": {
        "id": "0hnGG3LS0ZMZ"
      },
      "source": [
        "shopify_stock_all_prevDay.Sentiment.mean()"
      ],
      "execution_count": null,
      "outputs": []
    },
    {
      "cell_type": "code",
      "metadata": {
        "id": "C34S5qdO0cFn"
      },
      "source": [
        "shopify_stock_all_prevDay"
      ],
      "execution_count": null,
      "outputs": []
    },
    {
      "cell_type": "code",
      "metadata": {
        "id": "p3RUwVbB0eV3"
      },
      "source": [
        "from datetime import date\n",
        "\n",
        "end_date = date.today()\n",
        "start_date = date(year=end_date.year, month=end_date.month-1, day=end_date.day)\n",
        "\n",
        "print('Start day = ', start_date)\n",
        "print('End day = ', end_date)\n",
        "\n",
        "current_day = start_date\n",
        "sentiment_all_score = []\n",
        "dates=[]\n",
        "\n",
        "\n",
        "while current_day <= end_date:\n",
        "\n",
        "  dates.append(current_day)\n",
        "\n",
        "  sentiments_all = get_articles_sentiments(keywrd= 'Shopify' ,\n",
        "                                          #  current_day.strftime('%b-%d-%Y'),\n",
        "                                       startd = current_day,\n",
        "                                       sources_list = None,\n",
        "                                       show_all_articles= True)\n",
        "  sentiment_all_score.append(sentiments_all.mean())\n",
        "\n",
        "  current_day = current_day + timedelta(days=1)"
      ],
      "execution_count": null,
      "outputs": []
    },
    {
      "cell_type": "code",
      "metadata": {
        "id": "kCMtlfLF1NLm"
      },
      "source": [
        "sentiments_shopify = pd.DataFrame([dates,np.array(sentiment_all_score)]).transpose()"
      ],
      "execution_count": null,
      "outputs": []
    },
    {
      "cell_type": "code",
      "metadata": {
        "id": "uBNDAjJK193b"
      },
      "source": [
        "sentiments_shopify.columns"
      ],
      "execution_count": null,
      "outputs": []
    },
    {
      "cell_type": "code",
      "metadata": {
        "id": "-QsWt32M1joA"
      },
      "source": [
        "# sentiments_shopify.columns=['Date','All_sources_sentiment']\n",
        "# sentiments_shopify['Date'] = pd.to_datetime(sentiments_shopify['Date'])\n",
        "# sentiments_shopify['All_sources_sentiment'] = sentiments_shopify['All_sources_sentiment'].astype(float)\n",
        "sentiments_shopify.set_index(\"Date\", inplace=True)"
      ],
      "execution_count": null,
      "outputs": []
    },
    {
      "cell_type": "code",
      "metadata": {
        "id": "_Khu7uy217kU"
      },
      "source": [
        "sentiments_shopify.plot()"
      ],
      "execution_count": null,
      "outputs": []
    },
    {
      "cell_type": "markdown",
      "metadata": {
        "id": "7qJ7UY1Z9SWS"
      },
      "source": [
        "# 4.2) GAFA stock - 30 july earnings call :get news and sentiment for Google, Amazon, Facebook, Apple"
      ]
    }
  ]
}